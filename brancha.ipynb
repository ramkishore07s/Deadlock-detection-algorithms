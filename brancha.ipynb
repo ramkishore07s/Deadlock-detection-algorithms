{
 "cells": [
  {
   "cell_type": "code",
   "execution_count": 20,
   "metadata": {},
   "outputs": [],
   "source": [
    "from multiprocessing import Process, Pipe\n",
    "import signal\n",
    "import logging\n",
    "import random\n",
    "import numpy as np"
   ]
  },
  {
   "cell_type": "code",
   "execution_count": 21,
   "metadata": {},
   "outputs": [],
   "source": [
    "filename = 'brancha.txt'\n",
    "with open(filename, 'w+') as f:\n",
    "    f.write('')\n",
    "f.close()\n",
    "msg_filename = 'brancha_msg.txt'\n",
    "with open(msg_filename, 'w+') as f:\n",
    "    f.write('')\n",
    "f.close()"
   ]
  },
  {
   "cell_type": "markdown",
   "metadata": {},
   "source": [
    "## Logging\n",
    "\n",
    "* `logger.setLevel(logging.DEBUG)` to debug\n",
    "* `logger.setLevel(logging.WARNING)` to only log the final result (deadlocked or not deadlocked)"
   ]
  },
  {
   "cell_type": "code",
   "execution_count": 22,
   "metadata": {},
   "outputs": [],
   "source": [
    "logging.basicConfig()\n",
    "logger = logging.getLogger('MPLogger')\n",
    "#logger.setLevel(logging.DEBUG)\n",
    "logger.setLevel(logging.WARNING)"
   ]
  },
  {
   "cell_type": "markdown",
   "metadata": {},
   "source": [
    "## Set parameters"
   ]
  },
  {
   "cell_type": "code",
   "execution_count": 24,
   "metadata": {},
   "outputs": [],
   "source": [
    "num_processes = 5\n",
    "wfg = non_deadlocked_wfg\n",
    "initiator = 2\n",
    "timeout = 1\n",
    "msg_gaurentee = 0.99\n",
    "num_experiments = 100 # Number of times to simulate"
   ]
  },
  {
   "cell_type": "markdown",
   "metadata": {},
   "source": [
    "## Timeout\n",
    "\n",
    "* In diffusion based methods, if initiator receives messages for all processes in its dependent set, it is deadlocked.\n",
    "* Else if it did not receive all messages before timeout, it will assume that it is not deadlocked\n",
    "* Noisy channel with less than 100% delivery gaurentee can only mistake deadlocked situation as not deadlocked, vice versa cannot happen"
   ]
  },
  {
   "cell_type": "code",
   "execution_count": 25,
   "metadata": {},
   "outputs": [],
   "source": [
    "class Timeout:\n",
    "    def __init__(self, seconds=1, error_message='Timeout'):\n",
    "        self.seconds = seconds\n",
    "        self.error_message = error_message\n",
    "    def handle_timeout(self, signum, frame):\n",
    "        raise TimeoutError(self.error_message)\n",
    "    def __enter__(self):\n",
    "        signal.signal(signal.SIGALRM, self.handle_timeout)\n",
    "        signal.alarm(self.seconds)\n",
    "    def __exit__(self, type, value, traceback):\n",
    "        signal.alarm(0)"
   ]
  },
  {
   "cell_type": "markdown",
   "metadata": {},
   "source": [
    "## Message passing gaurentees\n",
    "\n",
    "* if prob == 1, then gaurentee is 100%"
   ]
  },
  {
   "cell_type": "code",
   "execution_count": 26,
   "metadata": {},
   "outputs": [],
   "source": [
    "def noisy_send(pipe, msg):\n",
    "    send_prob = np.random.uniform(0, 1)\n",
    "    if send_prob <= msg_gaurentee:\n",
    "        pipe.send(msg)\n",
    "        logger.debug(\"Succesfully sent: {}\".format(msg) + \" Prob generated: {}\".format(send_prob))\n",
    "        with open(msg_filename, 'a+') as f: f.write('1')\n",
    "    else:\n",
    "        logger.debug(\"Failed: {}\".format(msg) + \" Prob generated: {}\".format(send_prob))"
   ]
  },
  {
   "cell_type": "markdown",
   "metadata": {},
   "source": [
    "## Dependency lists\n",
    "\n",
    "* Funcion to get dependency lists for each process"
   ]
  },
  {
   "cell_type": "code",
   "execution_count": 27,
   "metadata": {},
   "outputs": [],
   "source": [
    "def get_waiting_on(id, wfg):\n",
    "    waiting_on = []\n",
    "    for pi, pj in wfg:\n",
    "        if pj == id:\n",
    "            waiting_on.append(pi)\n",
    "    return waiting_on"
   ]
  },
  {
   "cell_type": "code",
   "execution_count": 28,
   "metadata": {},
   "outputs": [],
   "source": [
    "def get_waited_by(id, wfg):\n",
    "    waited_by = []\n",
    "    for pi, pj in wfg:\n",
    "        if pi == id:\n",
    "            waited_by.append(pj)\n",
    "    return waited_by"
   ]
  },
  {
   "cell_type": "markdown",
   "metadata": {},
   "source": [
    "## Brancha-Toueg"
   ]
  },
  {
   "cell_type": "code",
   "execution_count": 29,
   "metadata": {},
   "outputs": [],
   "source": [
    "def process(id, num_processes, send_pipes, recv_pipes, waiting_on, waited_by, initiator=False, timeout=10):\n",
    "    np.random.seed(random.randint(0, 100000))\n",
    "    \n",
    "    notified, free = False, False\n",
    "    n = len(waiting_on)\n",
    "    num_granted = 0\n",
    "    \n",
    "    logger.debug(\"{} waiting_on {}\".format(id, waiting_on))\n",
    "    \n",
    "    try:\n",
    "        with Timeout(timeout):\n",
    "            \n",
    "            # =================================================================================\n",
    "            \"\"\"\n",
    "            **Initiate a diffusion computation for a blocked process Pi :**\n",
    "\n",
    "                * send query(i, i, j) to all processes Pj in the dependent set DSi of Pi\n",
    "\n",
    "                `       \n",
    "                numi (i):= |DSi |; \n",
    "                waiti (i):= true;\n",
    "                `\n",
    "            \"\"\"\n",
    "            \n",
    "            if initiator:\n",
    "                logger.debug('Initiator {}'.format(id))\n",
    "                notified = True\n",
    "                for pj in waiting_on: noisy_send(send_pipes[pj], 'notify')\n",
    "                if n == 0:\n",
    "                    free = True\n",
    "                    for pj in waited_by: noisy_send(send_pipes[pj], 'grant')\n",
    "                        \n",
    "                    \n",
    "            \n",
    "            # =================================================================================\n",
    "\n",
    "            while True:\n",
    "                for recv_id, conn in enumerate(recv_pipes):\n",
    "                    while conn.poll():\n",
    "                        m = conn.recv()\n",
    "                        \n",
    "                        if m == 'notify' and not initiator:\n",
    "                            notified = True\n",
    "                            for pj in waiting_on: noisy_send(send_pipes[pj], 'notify')\n",
    "                            if n == 0:\n",
    "                                free = True\n",
    "                                for pj in waited_by: noisy_send(send_pipes[pj], 'grant')\n",
    "                                    \n",
    "                        if m == 'grant':\n",
    "                            n = 0\n",
    "                            if not free:\n",
    "                                for pj in waited_by: noisy_send(send_pipes[pj], 'grant')\n",
    "                                free = True\n",
    "                if initiator:\n",
    "                    if n == 0 or free:\n",
    "                        logger.error('Not Deadlocked')\n",
    "                        with open(filename, 'a+') as f: f.write(\"{} {}\\n\".format(msg_gaurentee, 1))\n",
    "                        return\n",
    "                    \n",
    "                if free: return\n",
    "                    \n",
    "                    \n",
    "                                    \n",
    "    except TimeoutError as e:\n",
    "        if initiator:\n",
    "            if n == 0 or free:\n",
    "                logger.error('Not Deadlocked!')\n",
    "                with open(filename, 'a+') as f: f.write(\"{} {}\\n\".format(msg_gaurentee, 1))\n",
    "            else:\n",
    "                logger.error('Deadlocked')\n",
    "                with open(filename, 'a+') as f: f.write(\"{} {}\\n\".format(msg_gaurentee, 0))"
   ]
  }
 ],
 "metadata": {
  "kernelspec": {
   "display_name": "Python 3",
   "language": "python",
   "name": "python3"
  },
  "language_info": {
   "codemirror_mode": {
    "name": "ipython",
    "version": 3
   },
   "file_extension": ".py",
   "mimetype": "text/x-python",
   "name": "python",
   "nbconvert_exporter": "python",
   "pygments_lexer": "ipython3",
   "version": "3.7.4"
  }
 },
 "nbformat": 4,
 "nbformat_minor": 4
}
