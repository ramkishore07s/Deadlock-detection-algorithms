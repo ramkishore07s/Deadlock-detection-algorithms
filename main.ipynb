{
 "cells": [
  {
   "cell_type": "code",
   "execution_count": null,
   "metadata": {},
   "outputs": [],
   "source": [
    "%run wfg.ipynb"
   ]
  },
  {
   "cell_type": "code",
   "execution_count": null,
   "metadata": {},
   "outputs": [],
   "source": [
    "from tqdm import tqdm"
   ]
  },
  {
   "cell_type": "markdown",
   "metadata": {},
   "source": [
    "# Contents\n",
    "\n",
    "* 1. Message gaurentee vs Deadlock detection accuracy\n",
    "    * Experiments\n",
    "    * Results\n",
    "* 2. No of messages\n",
    "    * Experiments\n",
    "    * Results"
   ]
  },
  {
   "cell_type": "markdown",
   "metadata": {},
   "source": [
    "# 1. Message gaurentee vs Deadlock detection accuracy"
   ]
  },
  {
   "cell_type": "markdown",
   "metadata": {},
   "source": [
    "## 1.1 Running experiments"
   ]
  },
  {
   "cell_type": "code",
   "execution_count": 1,
   "metadata": {},
   "outputs": [
    {
     "ename": "NameError",
     "evalue": "name 'non_deadlocked_wfg' is not defined",
     "output_type": "error",
     "traceback": [
      "\u001b[0;31m---------------------------------------------------------------------------\u001b[0m",
      "\u001b[0;31mNameError\u001b[0m                                 Traceback (most recent call last)",
      "\u001b[0;32m~/ds/brancha.ipynb\u001b[0m in \u001b[0;36m<module>\u001b[0;34m\u001b[0m\n\u001b[1;32m      1\u001b[0m \u001b[0mnum_processes\u001b[0m \u001b[0;34m=\u001b[0m \u001b[0;36m5\u001b[0m\u001b[0;34m\u001b[0m\u001b[0;34m\u001b[0m\u001b[0m\n\u001b[0;32m----> 2\u001b[0;31m \u001b[0mwfg\u001b[0m \u001b[0;34m=\u001b[0m \u001b[0mnon_deadlocked_wfg\u001b[0m\u001b[0;34m\u001b[0m\u001b[0;34m\u001b[0m\u001b[0m\n\u001b[0m\u001b[1;32m      3\u001b[0m \u001b[0minitiator\u001b[0m \u001b[0;34m=\u001b[0m \u001b[0;36m2\u001b[0m\u001b[0;34m\u001b[0m\u001b[0;34m\u001b[0m\u001b[0m\n\u001b[1;32m      4\u001b[0m \u001b[0mtimeout\u001b[0m \u001b[0;34m=\u001b[0m \u001b[0;36m1\u001b[0m\u001b[0;34m\u001b[0m\u001b[0;34m\u001b[0m\u001b[0m\n\u001b[1;32m      5\u001b[0m \u001b[0mmsg_gaurentee\u001b[0m \u001b[0;34m=\u001b[0m \u001b[0;36m0.99\u001b[0m\u001b[0;34m\u001b[0m\u001b[0;34m\u001b[0m\u001b[0m\n",
      "\u001b[0;31mNameError\u001b[0m: name 'non_deadlocked_wfg' is not defined"
     ]
    }
   ],
   "source": [
    "%run brancha.ipynb"
   ]
  },
  {
   "cell_type": "code",
   "execution_count": 4,
   "metadata": {},
   "outputs": [],
   "source": [
    "logger.disabled = True\n",
    "num_experiments = 100"
   ]
  },
  {
   "cell_type": "code",
   "execution_count": 5,
   "metadata": {},
   "outputs": [
    {
     "name": "stderr",
     "output_type": "stream",
     "text": [
      "100%|██████████| 100/100 [01:44<00:00,  1.05s/it]\n",
      "100%|██████████| 100/100 [01:44<00:00,  1.04s/it]\n",
      "100%|██████████| 100/100 [01:44<00:00,  1.04s/it]\n",
      "100%|██████████| 100/100 [01:43<00:00,  1.04s/it]\n",
      "100%|██████████| 100/100 [01:43<00:00,  1.03s/it]\n",
      "100%|██████████| 100/100 [01:42<00:00,  1.03s/it]\n",
      "100%|██████████| 100/100 [01:30<00:00,  1.10it/s]\n",
      "100%|██████████| 100/100 [01:22<00:00,  1.21it/s]\n",
      "100%|██████████| 100/100 [01:02<00:00,  1.60it/s]\n",
      "100%|██████████| 100/100 [00:06<00:00, 14.39it/s]\n"
     ]
    }
   ],
   "source": [
    "for _ in range(10):\n",
    "    \n",
    "    msg_gaurentee = _ / 10 + 0.1\n",
    "    \n",
    "    for _ in tqdm(range(num_experiments)):\n",
    "        \n",
    "        send_pipes = [[None for _ in range(num_processes)] for _ in range(num_processes)]\n",
    "        recv_pipes = [[None for _ in range(num_processes)] for _ in range(num_processes)]\n",
    "\n",
    "        for i in range(num_processes):\n",
    "            for j in range(num_processes):\n",
    "                send_pipes[i][j], recv_pipes[j][i] = Pipe()\n",
    "        \n",
    "        processes = [Process(target=process, args=(id, num_processes, send_pipes[id], recv_pipes[id], \n",
    "                                                   get_waiting_on(id, wfg), get_waited_by(id, wfg), id==initiator, timeout))\n",
    "                    for id in range(num_processes)]\n",
    "\n",
    "        for p in processes:\n",
    "            p.start()\n",
    "\n",
    "        for p in processes:\n",
    "            p.join()\n",
    "            \n",
    "        with open(msg_filename, 'a+') as f: f.write(\"\\n\")"
   ]
  },
  {
   "cell_type": "code",
   "execution_count": 6,
   "metadata": {},
   "outputs": [],
   "source": [
    "%run ch.ipynb"
   ]
  },
  {
   "cell_type": "code",
   "execution_count": 7,
   "metadata": {},
   "outputs": [],
   "source": [
    "num_experiments = 100"
   ]
  },
  {
   "cell_type": "code",
   "execution_count": 8,
   "metadata": {},
   "outputs": [
    {
     "name": "stderr",
     "output_type": "stream",
     "text": [
      "100%|██████████| 100/100 [01:45<00:00,  1.06s/it]\n",
      "100%|██████████| 100/100 [01:47<00:00,  1.07s/it]\n",
      "100%|██████████| 100/100 [01:47<00:00,  1.07s/it]\n",
      "100%|██████████| 100/100 [01:46<00:00,  1.07s/it]\n",
      "100%|██████████| 100/100 [01:46<00:00,  1.07s/it]\n",
      "100%|██████████| 100/100 [01:45<00:00,  1.06s/it]\n",
      "100%|██████████| 100/100 [01:46<00:00,  1.07s/it]\n",
      "100%|██████████| 100/100 [01:35<00:00,  1.05it/s]\n",
      "100%|██████████| 100/100 [01:10<00:00,  1.41it/s]\n",
      "100%|██████████| 100/100 [00:11<00:00,  8.53it/s]\n"
     ]
    }
   ],
   "source": [
    "for _ in range(10):\n",
    "    msg_gaurentee = _ / 10 + 0.1\n",
    "\n",
    "    for _ in tqdm(range(num_experiments)):\n",
    "        send_pipes = [[None for _ in range(num_processes + 1)] for _ in range(num_processes + 1)]\n",
    "        recv_pipes = [[None for _ in range(num_processes + 1)] for _ in range(num_processes + 1)]\n",
    "\n",
    "        for i in range(num_processes + 1):\n",
    "            for j in range(num_processes + 1):\n",
    "                send_pipes[i][j], recv_pipes[j][i] = Pipe()\n",
    "                \n",
    "                \n",
    "        processes = [Process(target=process, args=(id, num_processes, send_pipes[id], recv_pipes[id], \n",
    "                                                   get_waiting_on(id, wfg), timeout))\n",
    "                    for id in range(num_processes)]\n",
    "\n",
    "        for p in processes: p.start()\n",
    "\n",
    "        processes.append(Process(target=initiator_process, args=(num_processes, send_pipes[num_processes], recv_pipes[num_processes],\n",
    "                                                               initiator, timeout)))\n",
    "\n",
    "        processes[-1].start(); processes[-1].join()\n",
    "\n",
    "        for p in processes: p.terminate()\n",
    "        \n",
    "        with open(msg_filename, 'a+') as f: f.write(\"\\n\")"
   ]
  },
  {
   "cell_type": "code",
   "execution_count": 9,
   "metadata": {},
   "outputs": [],
   "source": [
    "%run chm.ipynb"
   ]
  },
  {
   "cell_type": "code",
   "execution_count": 10,
   "metadata": {},
   "outputs": [],
   "source": [
    "num_experiments = 100"
   ]
  },
  {
   "cell_type": "code",
   "execution_count": 11,
   "metadata": {},
   "outputs": [
    {
     "name": "stderr",
     "output_type": "stream",
     "text": [
      "100%|██████████| 100/100 [01:44<00:00,  1.05s/it]\n",
      "100%|██████████| 100/100 [01:44<00:00,  1.05s/it]\n",
      "100%|██████████| 100/100 [01:44<00:00,  1.04s/it]\n",
      "100%|██████████| 100/100 [01:44<00:00,  1.04s/it]\n",
      "100%|██████████| 100/100 [01:44<00:00,  1.04s/it]\n",
      "100%|██████████| 100/100 [01:44<00:00,  1.04s/it]\n",
      "100%|██████████| 100/100 [01:44<00:00,  1.04s/it]\n",
      "100%|██████████| 100/100 [01:44<00:00,  1.05s/it]\n",
      "100%|██████████| 100/100 [01:44<00:00,  1.05s/it]\n",
      "100%|██████████| 100/100 [01:44<00:00,  1.05s/it]\n"
     ]
    }
   ],
   "source": [
    "for _ in range(10):\n",
    "    \n",
    "    msg_gaurentee = _ / 10 + 0.1\n",
    "    \n",
    "    for _ in tqdm(range(num_experiments)):\n",
    "        \n",
    "        send_pipes = [[None for _ in range(num_processes)] for _ in range(num_processes)]\n",
    "        recv_pipes = [[None for _ in range(num_processes)] for _ in range(num_processes)]\n",
    "        \n",
    "        for i in range(num_processes):\n",
    "            for j in range(num_processes):\n",
    "                send_pipes[i][j], recv_pipes[j][i] = Pipe()\n",
    "                \n",
    "        processes = [Process(target=process, args=(id, num_processes, send_pipes[id], recv_pipes[id], \n",
    "                                                   get_waiting_on(id, wfg), id==initiator, timeout))\n",
    "                    for id in range(num_processes)]\n",
    "\n",
    "        for p in processes:\n",
    "            p.start()\n",
    "\n",
    "        for p in processes:\n",
    "            p.join()\n",
    "        \n",
    "        with open(msg_filename, 'a+') as f: f.write(\"\\n\")"
   ]
  },
  {
   "cell_type": "markdown",
   "metadata": {},
   "source": [
    "## 1.2 Results"
   ]
  },
  {
   "cell_type": "code",
   "execution_count": 12,
   "metadata": {},
   "outputs": [],
   "source": [
    "import matplotlib.pyplot as plt"
   ]
  },
  {
   "cell_type": "code",
   "execution_count": 13,
   "metadata": {},
   "outputs": [
    {
     "data": {
      "image/png": "[encoded data removed]",
      "text/plain": [
       "<Figure size 432x288 with 1 Axes>"
      ]
     },
     "metadata": {
      "needs_background": "light"
     },
     "output_type": "display_data"
    }
   ],
   "source": [
    "f = open(\"ch_log.txt\").read()[:-1]\n",
    "\n",
    "vals = {}\n",
    "\n",
    "for row in f.split(\"\\n\"):\n",
    "    i, j = [float(i) for i in row.split(' ')]\n",
    "    if i in vals:\n",
    "        vals[i] += j\n",
    "    else:\n",
    "        vals[i] = j\n",
    "    \n",
    "for i in vals: vals[i] += num_experiments; vals[i] = vals[i] / 2\n",
    "vals1 = vals\n",
    "\n",
    "f = open(\"chm_log.txt\").read()[:-1]\n",
    "\n",
    "vals = {}\n",
    "\n",
    "for row in f.split(\"\\n\"):\n",
    "    i, j = [float(i) for i in row.split(' ')]\n",
    "    if i in vals:\n",
    "        vals[i] += j\n",
    "    else:\n",
    "        vals[i] = j\n",
    "\n",
    "for i in vals: vals[i] += num_experiments; vals[i] = vals[i] / 2\n",
    "vals2 = vals\n",
    "\n",
    "f = open(\"brancha.txt\").read()[:-1]\n",
    "\n",
    "vals = {}\n",
    "\n",
    "for row in f.split(\"\\n\"):\n",
    "    i, j = [float(i) for i in row.split(' ')]\n",
    "    if i in vals:\n",
    "        vals[i] += j\n",
    "    else:\n",
    "        vals[i] = j\n",
    "\n",
    "for i in vals: vals[i] += num_experiments; vals[i] = vals[i] / 2\n",
    "vals3 = vals\n",
    "\n",
    "plt.plot(list(range(0, 100, 10)), list(vals1.values()))\n",
    "plt.plot(list(range(0, 100, 10)),list(vals2.values()))\n",
    "plt.plot(list(range(0, 100, 10)),list(vals3.values()))\n",
    "plt.legend([ 'Chandy Herman', 'Chandy Mishra Hass', 'Brancha and Toueg'])\n",
    "plt.title('Deadlock detection accuracy vs Message delivery Gaurentee')\n",
    "plt.xlabel('Message delivery gaurentee (%)')\n",
    "plt.ylabel('% of deadlocks determnied correctly')\n",
    "plt.savefig(\"accuracy_vs_msg_gaurentee.png\")"
   ]
  },
  {
   "cell_type": "markdown",
   "metadata": {},
   "source": [
    "# 2. No of messages"
   ]
  },
  {
   "cell_type": "code",
   "execution_count": null,
   "metadata": {},
   "outputs": [],
   "source": [
    "import os\n",
    "os._exit(00)"
   ]
  },
  {
   "cell_type": "code",
   "execution_count": 2,
   "metadata": {},
   "outputs": [],
   "source": [
    "%run wfg.ipynb\n",
    "from tqdm import tqdm\n",
    "import matplotlib.pyplot as plt"
   ]
  },
  {
   "cell_type": "markdown",
   "metadata": {},
   "source": [
    "## 2.1 Running the experiments"
   ]
  },
  {
   "cell_type": "code",
   "execution_count": 3,
   "metadata": {},
   "outputs": [],
   "source": [
    "%run brancha.ipynb"
   ]
  },
  {
   "cell_type": "code",
   "execution_count": 4,
   "metadata": {},
   "outputs": [
    {
     "name": "stderr",
     "output_type": "stream",
     "text": [
      "ERROR:MPLogger:Deadlocked\n",
      "ERROR:MPLogger:Deadlocked\n",
      "ERROR:MPLogger:Deadlocked\n",
      "ERROR:MPLogger:Not Deadlocked\n",
      "ERROR:MPLogger:Not Deadlocked\n",
      "ERROR:MPLogger:Not Deadlocked\n"
     ]
    }
   ],
   "source": [
    "msg_filename = 'brancha_msg.txt'\n",
    "with open(msg_filename, 'w+') as f:\n",
    "    f.write('')\n",
    "    \n",
    "msg_gaurentee = 1\n",
    "logger.setLevel(logging.WARNING)\n",
    "    \n",
    "for wfg in [deadlocked_wfg, deadlocked_wfg2, deadlocked_wfg3, non_deadlocked_wfg, non_deadlocked_wfg2, non_deadlocked_wfg3]:\n",
    "    \n",
    "    send_pipes = [[None for _ in range(num_processes)] for _ in range(num_processes)]\n",
    "    recv_pipes = [[None for _ in range(num_processes)] for _ in range(num_processes)]\n",
    "\n",
    "    for i in range(num_processes):\n",
    "        for j in range(num_processes):\n",
    "            send_pipes[i][j], recv_pipes[j][i] = Pipe()\n",
    "\n",
    "    processes = [Process(target=process, args=(id, num_processes, send_pipes[id], recv_pipes[id], \n",
    "                                               get_waiting_on(id, wfg), get_waited_by(id, wfg), id==initiator, timeout))\n",
    "                for id in range(num_processes)]\n",
    "\n",
    "    for p in processes:\n",
    "        p.start()\n",
    "\n",
    "    for p in processes:\n",
    "        p.join()\n",
    "        \n",
    "    with open(msg_filename, 'a+') as f: f.write(\"\\n\")"
   ]
  },
  {
   "cell_type": "code",
   "execution_count": 5,
   "metadata": {},
   "outputs": [],
   "source": [
    "%run ch.ipynb"
   ]
  },
  {
   "cell_type": "code",
   "execution_count": 6,
   "metadata": {},
   "outputs": [
    {
     "name": "stderr",
     "output_type": "stream",
     "text": [
      "ERROR:MPLogger:Deadlocked!\n",
      "ERROR:MPLogger:Deadlocked!\n",
      "ERROR:MPLogger:Deadlocked!\n",
      "ERROR:MPLogger:Not deadlocked!\n",
      "ERROR:MPLogger:Not deadlocked!\n",
      "ERROR:MPLogger:Not deadlocked!\n"
     ]
    }
   ],
   "source": [
    "msg_filename = 'ch_msg.txt'\n",
    "with open(msg_filename, 'w+') as f:\n",
    "    f.write('')\n",
    "    \n",
    "msg_gaurentee = 1\n",
    "logger.setLevel(logging.WARNING)\n",
    "    \n",
    "for wfg in [deadlocked_wfg, deadlocked_wfg2, deadlocked_wfg3, non_deadlocked_wfg, non_deadlocked_wfg2, non_deadlocked_wfg3]:\n",
    "    send_pipes = [[None for _ in range(num_processes + 1)] for _ in range(num_processes + 1)]\n",
    "    recv_pipes = [[None for _ in range(num_processes + 1)] for _ in range(num_processes + 1)]\n",
    "    \n",
    "    for i in range(num_processes + 1):\n",
    "        for j in range(num_processes + 1):\n",
    "            send_pipes[i][j], recv_pipes[j][i] = Pipe()\n",
    "            \n",
    "    processes = [Process(target=process, args=(id, num_processes, send_pipes[id], recv_pipes[id], \n",
    "                                               get_waiting_on(id, wfg), timeout))\n",
    "                for id in range(num_processes)]\n",
    "\n",
    "    for p in processes:\n",
    "        p.start()\n",
    "\n",
    "    processes.append(Process(target=initiator_process, args=(num_processes, send_pipes[num_processes], recv_pipes[num_processes],\n",
    "                                                           initiator, timeout)))\n",
    "\n",
    "    processes[-1].start()\n",
    "    processes[-1].join()\n",
    "\n",
    "    for p in processes:\n",
    "        p.terminate()\n",
    "        \n",
    "    with open(msg_filename, 'a+') as f: f.write(\"\\n\")"
   ]
  },
  {
   "cell_type": "code",
   "execution_count": 7,
   "metadata": {},
   "outputs": [],
   "source": [
    "%run chm.ipynb"
   ]
  },
  {
   "cell_type": "code",
   "execution_count": 8,
   "metadata": {},
   "outputs": [
    {
     "name": "stderr",
     "output_type": "stream",
     "text": [
      "ERROR:MPLogger:Deadlocked!\n",
      "ERROR:MPLogger:Deadlocked!\n",
      "ERROR:MPLogger:Deadlocked!\n",
      "ERROR:MPLogger:Not Deadlocked!\n",
      "ERROR:MPLogger:Not Deadlocked!\n",
      "ERROR:MPLogger:Not Deadlocked!\n"
     ]
    }
   ],
   "source": [
    "msg_filename = 'chm_msg.txt'\n",
    "with open(msg_filename, 'w+') as f:\n",
    "    f.write('')\n",
    "    \n",
    "msg_gaurentee = 1\n",
    "logger.setLevel(logging.WARNING)\n",
    "\n",
    "for wfg in [deadlocked_wfg, deadlocked_wfg2, deadlocked_wfg3, non_deadlocked_wfg, non_deadlocked_wfg2, non_deadlocked_wfg3]:\n",
    "    \n",
    "    send_pipes = [[None for _ in range(num_processes + 1)] for _ in range(num_processes + 1)]\n",
    "    recv_pipes = [[None for _ in range(num_processes + 1)] for _ in range(num_processes + 1)]\n",
    "    \n",
    "    for i in range(num_processes + 1):\n",
    "        for j in range(num_processes + 1):\n",
    "            send_pipes[i][j], recv_pipes[j][i] = Pipe()\n",
    "            \n",
    "    processes = [Process(target=process, args=(id, num_processes, send_pipes[id], recv_pipes[id], \n",
    "                                               get_waiting_on(id, wfg), id==initiator, timeout))\n",
    "                for id in range(num_processes)]\n",
    "\n",
    "    for p in processes:\n",
    "        p.start()\n",
    "\n",
    "    for p in processes:\n",
    "        p.join()\n",
    "\n",
    "    with open(msg_filename, 'a+') as f: f.write(\"\\n\")"
   ]
  },
  {
   "cell_type": "markdown",
   "metadata": {},
   "source": [
    "## 2.2 Results"
   ]
  },
  {
   "cell_type": "code",
   "execution_count": 9,
   "metadata": {},
   "outputs": [
    {
     "data": {
      "image/png": "[encoded data removed]",
      "text/plain": [
       "<Figure size 432x288 with 1 Axes>"
      ]
     },
     "metadata": {
      "needs_background": "light"
     },
     "output_type": "display_data"
    }
   ],
   "source": [
    "with open('brancha_msg.txt') as f: l1 = [len(i) for i in f.read().split('\\n')[:-1]]\n",
    "with open('ch_msg.txt') as f: l2 = [len(i) for i in f.read().split('\\n')[:-1]]\n",
    "with open('chm_msg.txt') as f: l3 = [len(i) for i in f.read().split('\\n')[:-1]]\n",
    "    \n",
    "labels = ['d_' + str(i) for i in range(1, 4)] + ['nd_' + str(i) for i in range(1, 4)]\n",
    "plt.plot(labels, l2)\n",
    "plt.plot(labels, l3)\n",
    "plt.plot(labels, l1)\n",
    "plt.legend([ 'Chandy Herman', 'Chandy Mishra Hass', 'Brancha and Toueg'])\n",
    "plt.title('No of messages required')\n",
    "plt.xlabel('WFG id (nd = non_deadlocked, d = deadlocked)')\n",
    "plt.ylabel('No of messages required')\n",
    "plt.savefig(\"no_messages.png\")"
   ]
  },
  {
   "cell_type": "code",
   "execution_count": null,
   "metadata": {},
   "outputs": [],
   "source": []
  }
 ],
 "metadata": {
  "kernelspec": {
   "display_name": "Python 3",
   "language": "python",
   "name": "python3"
  },
  "language_info": {
   "codemirror_mode": {
    "name": "ipython",
    "version": 3
   },
   "file_extension": ".py",
   "mimetype": "text/x-python",
   "name": "python",
   "nbconvert_exporter": "python",
   "pygments_lexer": "ipython3",
   "version": "3.7.4"
  }
 },
 "nbformat": 4,
 "nbformat_minor": 4
}
