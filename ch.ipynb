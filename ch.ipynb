{
 "cells": [
  {
   "cell_type": "code",
   "execution_count": 18,
   "metadata": {},
   "outputs": [],
   "source": [
    "from multiprocessing import Process, Pipe\n",
    "import signal\n",
    "import logging\n",
    "import random\n",
    "import numpy as np"
   ]
  },
  {
   "cell_type": "code",
   "execution_count": 19,
   "metadata": {},
   "outputs": [],
   "source": [
    "filename = 'ch_log.txt'\n",
    "with open(filename, 'w+') as f:\n",
    "    f.write('')\n",
    "f.close()\n",
    "msg_filename = 'ch_msg.txt'\n",
    "with open(msg_filename, 'w+') as f:\n",
    "    f.write('')\n",
    "f.close()"
   ]
  },
  {
   "cell_type": "markdown",
   "metadata": {},
   "source": [
    "## Logging\n",
    "\n",
    "* `logger.setLevel(logging.DEBUG)` to debug\n",
    "* `logger.setLevel(logging.WARNING)` to only log the final result (deadlocked or not deadlocked)"
   ]
  },
  {
   "cell_type": "code",
   "execution_count": 20,
   "metadata": {},
   "outputs": [],
   "source": [
    "logging.basicConfig()\n",
    "logger = logging.getLogger('MPLogger')\n",
    "#logger.setLevel(logging.DEBUG)\n",
    "logger.setLevel(logging.WARNING)"
   ]
  },
  {
   "cell_type": "markdown",
   "metadata": {},
   "source": [
    "## Set parameters"
   ]
  },
  {
   "cell_type": "code",
   "execution_count": 22,
   "metadata": {},
   "outputs": [],
   "source": [
    "num_processes = 5\n",
    "wfg = deadlocked_wfg\n",
    "initiator = 2\n",
    "timeout = 1\n",
    "msg_gaurentee = 0.99\n",
    "num_experiments = 100 # Number of times to simulate"
   ]
  },
  {
   "cell_type": "markdown",
   "metadata": {},
   "source": [
    "## Timeout\n",
    "\n",
    "* In diffusion based methods, if initiator receives messages for all processes in its dependent set, it is deadlocked.\n",
    "* Else if it did not receive all messages before timeout, it will assume that it is not deadlocked\n",
    "* Noisy channel with less than 100% delivery gaurentee can only mistake deadlocked situation as not deadlocked, vice versa cannot happen"
   ]
  },
  {
   "cell_type": "code",
   "execution_count": 23,
   "metadata": {},
   "outputs": [],
   "source": [
    "class Timeout:\n",
    "    def __init__(self, seconds=1, error_message='Timeout'):\n",
    "        self.seconds = seconds\n",
    "        self.error_message = error_message\n",
    "    def handle_timeout(self, signum, frame):\n",
    "        raise TimeoutError(self.error_message)\n",
    "    def __enter__(self):\n",
    "        signal.signal(signal.SIGALRM, self.handle_timeout)\n",
    "        signal.alarm(self.seconds)\n",
    "    def __exit__(self, type, value, traceback):\n",
    "        signal.alarm(0)"
   ]
  },
  {
   "cell_type": "markdown",
   "metadata": {},
   "source": [
    "## Message passing gaurentees\n",
    "\n",
    "* if prob == 1, then gaurentee is 100%"
   ]
  },
  {
   "cell_type": "code",
   "execution_count": 24,
   "metadata": {},
   "outputs": [],
   "source": [
    "def noisy_send(pipe, msg):\n",
    "    send_prob = np.random.uniform(0, 1)\n",
    "    if send_prob <= msg_gaurentee:\n",
    "        pipe.send(msg)\n",
    "        logger.debug(\"Succesfully sent: {}\".format(msg) + \" Prob generated: {}\".format(send_prob))\n",
    "        with open(msg_filename, 'a+') as f: f.write('1')\n",
    "    else:\n",
    "        logger.debug(\"Failed: {}\".format(msg) + \" Prob generated: {}\".format(send_prob))"
   ]
  },
  {
   "cell_type": "markdown",
   "metadata": {},
   "source": [
    "## Dependency lists\n",
    "\n",
    "* Funcion to get dependency lists for each process"
   ]
  },
  {
   "cell_type": "code",
   "execution_count": 25,
   "metadata": {},
   "outputs": [],
   "source": [
    "def get_waiting_on(id, wfg):\n",
    "    waiting_on = []\n",
    "    for pi, pj in wfg:\n",
    "        if pj == id:\n",
    "            waiting_on.append(pi)\n",
    "    return waiting_on"
   ]
  },
  {
   "cell_type": "code",
   "execution_count": 26,
   "metadata": {},
   "outputs": [],
   "source": [
    "def get_waited_by(id, wfg):\n",
    "    waited_by = []\n",
    "    for pi, pj in wfg:\n",
    "        if pi == id:\n",
    "            waited_by.append(pj)\n",
    "    return waited_by"
   ]
  },
  {
   "cell_type": "markdown",
   "metadata": {},
   "source": [
    "## Chandy-Herman"
   ]
  },
  {
   "cell_type": "code",
   "execution_count": 27,
   "metadata": {},
   "outputs": [],
   "source": [
    "def is_subset(T, B):\n",
    "    for i, _ in enumerate(T):\n",
    "        if not T[i] == B[i]:\n",
    "            return False\n",
    "    return True"
   ]
  },
  {
   "cell_type": "code",
   "execution_count": 28,
   "metadata": {},
   "outputs": [],
   "source": [
    "def find_subset(iq_list, B):\n",
    "    for i in range(len(iq_list)):\n",
    "        if is_subset(iq_list[i][1], B):\n",
    "            return i\n",
    "    return None"
   ]
  },
  {
   "cell_type": "code",
   "execution_count": 29,
   "metadata": {},
   "outputs": [],
   "source": [
    "def find_match(oq_list, B):\n",
    "    for i in range(len(oq_list)):\n",
    "        if oq_list[i][1] == B:\n",
    "            return i\n",
    "    return None"
   ]
  },
  {
   "cell_type": "code",
   "execution_count": 30,
   "metadata": {},
   "outputs": [],
   "source": [
    "def initiator_process(id, send_pipes, recv_pipes, query_id, timeout=10):\n",
    "    \n",
    "    try:\n",
    "        with Timeout(timeout):\n",
    "            noisy_send(send_pipes[query_id], (\"query\", [id], id))\n",
    "\n",
    "            while True:\n",
    "                if recv_pipes[query_id].poll():\n",
    "                    logger.error(\"Deadlocked!\")\n",
    "                    with open(filename, 'a+') as f: f.write(\"{} {}\\n\".format(msg_gaurentee, 1))\n",
    "                    return\n",
    "    except TimeoutError as e:\n",
    "        logger.error(\"Not deadlocked!\")\n",
    "        with open(filename, 'a+') as f: f.write(\"{} {}\\n\".format(msg_gaurentee, 0))"
   ]
  },
  {
   "cell_type": "code",
   "execution_count": 31,
   "metadata": {},
   "outputs": [],
   "source": [
    "def process(id, num_processes, send_pipes, recv_pipes, waiting_on, timeout=10):\n",
    "    np.random.seed(random.randint(0, 100000))\n",
    "        \n",
    "    logger.debug(\"{} waiting_on {}\".format(id, waiting_on))\n",
    "    \n",
    "    iq_list = []\n",
    "    oq_list = []\n",
    "    \n",
    "    try:\n",
    "        with Timeout(timeout):\n",
    "\n",
    "            while True:\n",
    "                for recv_id, conn in enumerate(recv_pipes):\n",
    "                    while conn.poll():\n",
    "                        type_, B, w = conn.recv()\n",
    "                        \n",
    "                        # ====================================================================\n",
    "                        \n",
    "                        if len(waiting_on) > 0: # if True, the process is blocked\n",
    "                            if type_ == 'query':\n",
    "                                match = find_subset(iq_list, B)\n",
    "                                if match is not None: # reflection\n",
    "                                    noisy_send(send_pipes[w], (\"reply\", B, id))\n",
    "                                else: # extension\n",
    "                                    iq_list.append((type_, B, w))\n",
    "                                    for pj in waiting_on:\n",
    "                                        noisy_send(send_pipes[pj], (\"query\", B, id))\n",
    "                                        oq_list.append((\"query\", B, id))\n",
    "                                    \n",
    "                        # ====================================================================\n",
    "\n",
    "                        if type_ == 'reply':\n",
    "                            match = find_match(oq_list, B)\n",
    "                            if match is not None:\n",
    "                                del oq_list[match]\n",
    "                                match = find_match(oq_list, B)\n",
    "                                if match is None:\n",
    "                                    match = find_match(iq_list, B)\n",
    "                                    noisy_send(send_pipes[iq_list[match][-1]], (\"reply\", B, id))\n",
    "                                    del iq_list[match]\n",
    "\n",
    "\n",
    "                        # ====================================================================\n",
    "    \n",
    "    except TimeoutError as e:\n",
    "        pass"
   ]
  }
 ],
 "metadata": {
  "kernelspec": {
   "display_name": "Python 3",
   "language": "python",
   "name": "python3"
  },
  "language_info": {
   "codemirror_mode": {
    "name": "ipython",
    "version": 3
   },
   "file_extension": ".py",
   "mimetype": "text/x-python",
   "name": "python",
   "nbconvert_exporter": "python",
   "pygments_lexer": "ipython3",
   "version": "3.7.4"
  }
 },
 "nbformat": 4,
 "nbformat_minor": 4
}
